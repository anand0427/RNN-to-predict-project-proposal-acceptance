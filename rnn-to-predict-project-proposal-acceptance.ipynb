{
 "cells": [
  {
   "cell_type": "code",
   "execution_count": 1,
   "metadata": {
    "_cell_guid": "b1076dfc-b9ad-4769-8c92-a6c4dae69d19",
    "_uuid": "8f2839f25d086af736a60e9eeb907d3b93b6e0e5"
   },
   "outputs": [
    {
     "name": "stdout",
     "output_type": "stream",
     "text": [
      "['test.csv', 'resources.csv', 'train.csv', 'sample_submission.csv']\n"
     ]
    },
    {
     "name": "stderr",
     "output_type": "stream",
     "text": [
      "Using TensorFlow backend.\n"
     ]
    }
   ],
   "source": [
    "# This Python 3 environment comes with many helpful analytics libraries installed\n",
    "# It is defined by the kaggle/python docker image: https://github.com/kaggle/docker-python\n",
    "# For example, here's several helpful packages to load in \n",
    "\n",
    "import numpy as np # linear algebra\n",
    "import pandas as pd # data processing, CSV file I/O (e.g. pd.read_csv)\n",
    "\n",
    "# Input data files are available in the \"../input/\" directory.\n",
    "# For example, running this (by clicking run or pressing Shift+Enter) will list the files in the input directory\n",
    "\n",
    "import os\n",
    "print(os.listdir(\"../input\"))\n",
    "\n",
    "# Any results you write to the current directory are saved as output.\n",
    "from sklearn.model_selection import train_test_split\n",
    "from sklearn.metrics import roc_auc_score\n",
    "\n",
    "import keras\n",
    "import keras.backend as K"
   ]
  },
  {
   "cell_type": "code",
   "execution_count": 2,
   "metadata": {},
   "outputs": [
    {
     "data": {
      "text/plain": [
       "['/job:localhost/replica:0/task:0/device:GPU:0']"
      ]
     },
     "execution_count": 2,
     "metadata": {},
     "output_type": "execute_result"
    }
   ],
   "source": [
    "K.tensorflow_backend._get_available_gpus()"
   ]
  },
  {
   "cell_type": "code",
   "execution_count": 3,
   "metadata": {},
   "outputs": [
    {
     "name": "stdout",
     "output_type": "stream",
     "text": [
      "[name: \"/device:CPU:0\"\n",
      "device_type: \"CPU\"\n",
      "memory_limit: 268435456\n",
      "locality {\n",
      "}\n",
      "incarnation: 2198643479038807748\n",
      ", name: \"/device:XLA_CPU:0\"\n",
      "device_type: \"XLA_CPU\"\n",
      "memory_limit: 17179869184\n",
      "locality {\n",
      "}\n",
      "incarnation: 6367354577010767162\n",
      "physical_device_desc: \"device: XLA_CPU device\"\n",
      ", name: \"/device:XLA_GPU:0\"\n",
      "device_type: \"XLA_GPU\"\n",
      "memory_limit: 17179869184\n",
      "locality {\n",
      "}\n",
      "incarnation: 15776417342204668642\n",
      "physical_device_desc: \"device: XLA_GPU device\"\n",
      ", name: \"/device:GPU:0\"\n",
      "device_type: \"GPU\"\n",
      "memory_limit: 15882446439\n",
      "locality {\n",
      "  bus_id: 1\n",
      "  links {\n",
      "  }\n",
      "}\n",
      "incarnation: 8470126755234405961\n",
      "physical_device_desc: \"device: 0, name: Tesla P100-PCIE-16GB, pci bus id: 0000:00:04.0, compute capability: 6.0\"\n",
      "]\n"
     ]
    }
   ],
   "source": [
    "from tensorflow.python.client import device_lib\n",
    "print(device_lib.list_local_devices())"
   ]
  },
  {
   "cell_type": "code",
   "execution_count": 4,
   "metadata": {
    "_cell_guid": "79c7e3d0-c299-4dcb-8224-4455121ee9b0",
    "_uuid": "d629ff2d2480ee46fbb7e2d37f6b5fab8052498a"
   },
   "outputs": [],
   "source": [
    "train_df = pd.read_csv(\"../input/train.csv\")"
   ]
  },
  {
   "cell_type": "code",
   "execution_count": 5,
   "metadata": {},
   "outputs": [
    {
     "data": {
      "text/html": [
       "<div>\n",
       "<style scoped>\n",
       "    .dataframe tbody tr th:only-of-type {\n",
       "        vertical-align: middle;\n",
       "    }\n",
       "\n",
       "    .dataframe tbody tr th {\n",
       "        vertical-align: top;\n",
       "    }\n",
       "\n",
       "    .dataframe thead th {\n",
       "        text-align: right;\n",
       "    }\n",
       "</style>\n",
       "<table border=\"1\" class=\"dataframe\">\n",
       "  <thead>\n",
       "    <tr style=\"text-align: right;\">\n",
       "      <th></th>\n",
       "      <th>id</th>\n",
       "      <th>teacher_id</th>\n",
       "      <th>teacher_prefix</th>\n",
       "      <th>school_state</th>\n",
       "      <th>project_submitted_datetime</th>\n",
       "      <th>project_grade_category</th>\n",
       "      <th>project_subject_categories</th>\n",
       "      <th>project_subject_subcategories</th>\n",
       "      <th>project_title</th>\n",
       "      <th>project_essay_1</th>\n",
       "      <th>project_essay_2</th>\n",
       "      <th>project_essay_3</th>\n",
       "      <th>project_essay_4</th>\n",
       "      <th>project_resource_summary</th>\n",
       "      <th>teacher_number_of_previously_posted_projects</th>\n",
       "      <th>project_is_approved</th>\n",
       "    </tr>\n",
       "  </thead>\n",
       "  <tbody>\n",
       "    <tr>\n",
       "      <th>0</th>\n",
       "      <td>p036502</td>\n",
       "      <td>484aaf11257089a66cfedc9461c6bd0a</td>\n",
       "      <td>Ms.</td>\n",
       "      <td>NV</td>\n",
       "      <td>2016-11-18 14:45:59</td>\n",
       "      <td>Grades PreK-2</td>\n",
       "      <td>Literacy &amp; Language</td>\n",
       "      <td>Literacy</td>\n",
       "      <td>Super Sight Word Centers</td>\n",
       "      <td>Most of my kindergarten students come from low...</td>\n",
       "      <td>I currently have a differentiated sight word c...</td>\n",
       "      <td>NaN</td>\n",
       "      <td>NaN</td>\n",
       "      <td>My students need 6 Ipod Nano's to create and d...</td>\n",
       "      <td>26</td>\n",
       "      <td>1</td>\n",
       "    </tr>\n",
       "    <tr>\n",
       "      <th>1</th>\n",
       "      <td>p039565</td>\n",
       "      <td>df72a3ba8089423fa8a94be88060f6ed</td>\n",
       "      <td>Mrs.</td>\n",
       "      <td>GA</td>\n",
       "      <td>2017-04-26 15:57:28</td>\n",
       "      <td>Grades 3-5</td>\n",
       "      <td>Music &amp; The Arts, Health &amp; Sports</td>\n",
       "      <td>Performing Arts, Team Sports</td>\n",
       "      <td>Keep Calm and Dance On</td>\n",
       "      <td>Our elementary school is a culturally rich sch...</td>\n",
       "      <td>We strive to provide our diverse population of...</td>\n",
       "      <td>NaN</td>\n",
       "      <td>NaN</td>\n",
       "      <td>My students need matching shirts to wear for d...</td>\n",
       "      <td>1</td>\n",
       "      <td>0</td>\n",
       "    </tr>\n",
       "    <tr>\n",
       "      <th>2</th>\n",
       "      <td>p233823</td>\n",
       "      <td>a9b876a9252e08a55e3d894150f75ba3</td>\n",
       "      <td>Ms.</td>\n",
       "      <td>UT</td>\n",
       "      <td>2017-01-01 22:57:44</td>\n",
       "      <td>Grades 3-5</td>\n",
       "      <td>Math &amp; Science, Literacy &amp; Language</td>\n",
       "      <td>Applied Sciences, Literature &amp; Writing</td>\n",
       "      <td>Lets 3Doodle to Learn</td>\n",
       "      <td>Hello;\\r\\nMy name is Mrs. Brotherton. I teach ...</td>\n",
       "      <td>We are looking to add some 3Doodler to our cla...</td>\n",
       "      <td>NaN</td>\n",
       "      <td>NaN</td>\n",
       "      <td>My students need the 3doodler. We are an SEM s...</td>\n",
       "      <td>5</td>\n",
       "      <td>1</td>\n",
       "    </tr>\n",
       "    <tr>\n",
       "      <th>3</th>\n",
       "      <td>p185307</td>\n",
       "      <td>525fdbb6ec7f538a48beebaa0a51b24f</td>\n",
       "      <td>Mr.</td>\n",
       "      <td>NC</td>\n",
       "      <td>2016-08-12 15:42:11</td>\n",
       "      <td>Grades 3-5</td>\n",
       "      <td>Health &amp; Sports</td>\n",
       "      <td>Health &amp; Wellness</td>\n",
       "      <td>\\\"Kid Inspired\\\" Equipment to Increase Activit...</td>\n",
       "      <td>My students are the greatest students but are ...</td>\n",
       "      <td>The student's project which is totally \\\"kid-i...</td>\n",
       "      <td>NaN</td>\n",
       "      <td>NaN</td>\n",
       "      <td>My students need balls and other activity equi...</td>\n",
       "      <td>16</td>\n",
       "      <td>0</td>\n",
       "    </tr>\n",
       "    <tr>\n",
       "      <th>4</th>\n",
       "      <td>p013780</td>\n",
       "      <td>a63b5547a7239eae4c1872670848e61a</td>\n",
       "      <td>Mr.</td>\n",
       "      <td>CA</td>\n",
       "      <td>2016-08-06 09:09:11</td>\n",
       "      <td>Grades 6-8</td>\n",
       "      <td>Health &amp; Sports</td>\n",
       "      <td>Health &amp; Wellness</td>\n",
       "      <td>We need clean water for our culinary arts class!</td>\n",
       "      <td>My students are athletes and students who are ...</td>\n",
       "      <td>For some reason in our kitchen the water comes...</td>\n",
       "      <td>NaN</td>\n",
       "      <td>NaN</td>\n",
       "      <td>My students need a water filtration system for...</td>\n",
       "      <td>42</td>\n",
       "      <td>1</td>\n",
       "    </tr>\n",
       "  </tbody>\n",
       "</table>\n",
       "</div>"
      ],
      "text/plain": [
       "        id                        teacher_id teacher_prefix school_state  \\\n",
       "0  p036502  484aaf11257089a66cfedc9461c6bd0a            Ms.           NV   \n",
       "1  p039565  df72a3ba8089423fa8a94be88060f6ed           Mrs.           GA   \n",
       "2  p233823  a9b876a9252e08a55e3d894150f75ba3            Ms.           UT   \n",
       "3  p185307  525fdbb6ec7f538a48beebaa0a51b24f            Mr.           NC   \n",
       "4  p013780  a63b5547a7239eae4c1872670848e61a            Mr.           CA   \n",
       "\n",
       "  project_submitted_datetime project_grade_category  \\\n",
       "0        2016-11-18 14:45:59          Grades PreK-2   \n",
       "1        2017-04-26 15:57:28             Grades 3-5   \n",
       "2        2017-01-01 22:57:44             Grades 3-5   \n",
       "3        2016-08-12 15:42:11             Grades 3-5   \n",
       "4        2016-08-06 09:09:11             Grades 6-8   \n",
       "\n",
       "            project_subject_categories  \\\n",
       "0                  Literacy & Language   \n",
       "1    Music & The Arts, Health & Sports   \n",
       "2  Math & Science, Literacy & Language   \n",
       "3                      Health & Sports   \n",
       "4                      Health & Sports   \n",
       "\n",
       "            project_subject_subcategories  \\\n",
       "0                                Literacy   \n",
       "1            Performing Arts, Team Sports   \n",
       "2  Applied Sciences, Literature & Writing   \n",
       "3                       Health & Wellness   \n",
       "4                       Health & Wellness   \n",
       "\n",
       "                                       project_title  \\\n",
       "0                           Super Sight Word Centers   \n",
       "1                             Keep Calm and Dance On   \n",
       "2                              Lets 3Doodle to Learn   \n",
       "3  \\\"Kid Inspired\\\" Equipment to Increase Activit...   \n",
       "4   We need clean water for our culinary arts class!   \n",
       "\n",
       "                                     project_essay_1  \\\n",
       "0  Most of my kindergarten students come from low...   \n",
       "1  Our elementary school is a culturally rich sch...   \n",
       "2  Hello;\\r\\nMy name is Mrs. Brotherton. I teach ...   \n",
       "3  My students are the greatest students but are ...   \n",
       "4  My students are athletes and students who are ...   \n",
       "\n",
       "                                     project_essay_2 project_essay_3  \\\n",
       "0  I currently have a differentiated sight word c...             NaN   \n",
       "1  We strive to provide our diverse population of...             NaN   \n",
       "2  We are looking to add some 3Doodler to our cla...             NaN   \n",
       "3  The student's project which is totally \\\"kid-i...             NaN   \n",
       "4  For some reason in our kitchen the water comes...             NaN   \n",
       "\n",
       "  project_essay_4                           project_resource_summary  \\\n",
       "0             NaN  My students need 6 Ipod Nano's to create and d...   \n",
       "1             NaN  My students need matching shirts to wear for d...   \n",
       "2             NaN  My students need the 3doodler. We are an SEM s...   \n",
       "3             NaN  My students need balls and other activity equi...   \n",
       "4             NaN  My students need a water filtration system for...   \n",
       "\n",
       "   teacher_number_of_previously_posted_projects  project_is_approved  \n",
       "0                                            26                    1  \n",
       "1                                             1                    0  \n",
       "2                                             5                    1  \n",
       "3                                            16                    0  \n",
       "4                                            42                    1  "
      ]
     },
     "execution_count": 5,
     "metadata": {},
     "output_type": "execute_result"
    }
   ],
   "source": [
    "train_df.head()"
   ]
  },
  {
   "cell_type": "code",
   "execution_count": 6,
   "metadata": {},
   "outputs": [
    {
     "name": "stdout",
     "output_type": "stream",
     "text": [
      "<class 'pandas.core.frame.DataFrame'>\n",
      "RangeIndex: 182080 entries, 0 to 182079\n",
      "Data columns (total 16 columns):\n",
      "id                                              182080 non-null object\n",
      "teacher_id                                      182080 non-null object\n",
      "teacher_prefix                                  182076 non-null object\n",
      "school_state                                    182080 non-null object\n",
      "project_submitted_datetime                      182080 non-null object\n",
      "project_grade_category                          182080 non-null object\n",
      "project_subject_categories                      182080 non-null object\n",
      "project_subject_subcategories                   182080 non-null object\n",
      "project_title                                   182080 non-null object\n",
      "project_essay_1                                 182080 non-null object\n",
      "project_essay_2                                 182080 non-null object\n",
      "project_essay_3                                 6374 non-null object\n",
      "project_essay_4                                 6374 non-null object\n",
      "project_resource_summary                        182080 non-null object\n",
      "teacher_number_of_previously_posted_projects    182080 non-null int64\n",
      "project_is_approved                             182080 non-null int64\n",
      "dtypes: int64(2), object(14)\n",
      "memory usage: 22.2+ MB\n"
     ]
    }
   ],
   "source": [
    "train_df.info()"
   ]
  },
  {
   "cell_type": "code",
   "execution_count": 7,
   "metadata": {},
   "outputs": [
    {
     "data": {
      "text/plain": [
       "0    Most of my kindergarten students come from low...\n",
       "1    Our elementary school is a culturally rich sch...\n",
       "2    Hello;\\r\\nMy name is Mrs. Brotherton. I teach ...\n",
       "3    My students are the greatest students but are ...\n",
       "4    My students are athletes and students who are ...\n",
       "Name: project_essay_1, dtype: object"
      ]
     },
     "execution_count": 7,
     "metadata": {},
     "output_type": "execute_result"
    }
   ],
   "source": [
    "train_df[\"project_essay_1\"].head()"
   ]
  },
  {
   "cell_type": "code",
   "execution_count": 8,
   "metadata": {},
   "outputs": [
    {
     "data": {
      "text/plain": [
       "0    I currently have a differentiated sight word c...\n",
       "1    We strive to provide our diverse population of...\n",
       "2    We are looking to add some 3Doodler to our cla...\n",
       "3    The student's project which is totally \\\"kid-i...\n",
       "4    For some reason in our kitchen the water comes...\n",
       "Name: project_essay_2, dtype: object"
      ]
     },
     "execution_count": 8,
     "metadata": {},
     "output_type": "execute_result"
    }
   ],
   "source": [
    " train_df[\"project_essay_2\"].head()"
   ]
  },
  {
   "cell_type": "code",
   "execution_count": 9,
   "metadata": {},
   "outputs": [],
   "source": [
    "def get_proj_essay(df):\n",
    "    return  df[\"project_essay_1\"].fillna('')+\" \"+ df[\"project_essay_2\"].fillna('')+ \" \"+ df[\"project_essay_3\"].fillna('')+\" \"+ df[\"project_essay_4\"].fillna('')+\" \""
   ]
  },
  {
   "cell_type": "code",
   "execution_count": 10,
   "metadata": {},
   "outputs": [
    {
     "data": {
      "text/plain": [
       "0         Most of my kindergarten students come from low...\n",
       "1         Our elementary school is a culturally rich sch...\n",
       "2         Hello;\\r\\nMy name is Mrs. Brotherton. I teach ...\n",
       "3         My students are the greatest students but are ...\n",
       "4         My students are athletes and students who are ...\n",
       "5         My kids tell me each day that they want to mak...\n",
       "6         Kindergarten is the new first grade. My studen...\n",
       "7         First graders are fantastic! They are excited ...\n",
       "8         My seventh graders dream big. They can't wait ...\n",
       "9         I teach first grade in a small farming town in...\n",
       "10        My classroom has 24 students in it. We have an...\n",
       "11        My children come to school everyday with the s...\n",
       "12        My school is located in a high poverty area, j...\n",
       "13        Each day my fifth graders walk into our \\\"home...\n",
       "14        The children at our school come from a variety...\n",
       "15        My third graders are eager to learn new concep...\n",
       "16        My students are Hispanics, Spanish been their ...\n",
       "17        \\\"Learning is an active process. We learn by d...\n",
       "18        During our reading workshop students are at da...\n",
       "19        A preschool classroom, created to meet the nee...\n",
       "20        As a teacher in a low-income/high poverty scho...\n",
       "21        Teaching kindergarten in a diverse district po...\n",
       "22        My mostly Spanish speaking kindergarten studen...\n",
       "23        \\\"You can dream, create, design, and build the...\n",
       "24        My students attend a K-8 school in an impoveri...\n",
       "25        As a teacher in a low-income/high poverty scho...\n",
       "26        I work in a low-income, high poverty school di...\n",
       "27        Our classroom is filled with bright smiles and...\n",
       "28        My students live in a growing school district ...\n",
       "29        We have the best students ever! We are a commu...\n",
       "                                ...                        \n",
       "182050    My third graders live in Central Texas in the ...\n",
       "182051    My students love to read but have not yet disc...\n",
       "182052    My students are a very sweet and special group...\n",
       "182053    The school that I teach at services grades 6-8...\n",
       "182054    Every morning I open up my door and watch my s...\n",
       "182055    My 6th grade students are a wonderfully divers...\n",
       "182056    The students in our school are all low-income,...\n",
       "182057    My students are a group of hardworking fifth g...\n",
       "182058    My amazing kindergarten students are an absolu...\n",
       "182059    Our students come from very diverse background...\n",
       "182060    The majority of my students are 3 and 4 year o...\n",
       "182061    My second grade students are working towards t...\n",
       "182062    A typical day in my classroom includes reading...\n",
       "182063    The end of the school is a tough time.  My stu...\n",
       "182064    My students would be very grateful if you help...\n",
       "182065    My students are a phenomenal group of kids.  I...\n",
       "182066    I've been in many teacher in-services and obse...\n",
       "182067    Benjamin Franklin once said, \\\"Tell me and I f...\n",
       "182068    My students are at-risk readers, who I provide...\n",
       "182069    My school is a choice school.  It is a charter...\n",
       "182070    Hamilton Elementary is a Title 1 school that r...\n",
       "182071    My first grade students come to school everyda...\n",
       "182072    I am blessed to work in a rural, but quickly g...\n",
       "182073    I have a group of inspiring students who will ...\n",
       "182074    My students in my class are sixth, seventh and...\n",
       "182075    I currently teach math in a low-income school ...\n",
       "182076    My students are predominantly Hispanic and oft...\n",
       "182077    I teach science to eighth graders at a suburba...\n",
       "182078    I work with a group of wonderful second grade ...\n",
       "182079    Balanced literacy was a mystery to me until a ...\n",
       "Length: 182080, dtype: object"
      ]
     },
     "execution_count": 10,
     "metadata": {},
     "output_type": "execute_result"
    }
   ],
   "source": [
    "get_proj_essay(train_df)"
   ]
  },
  {
   "cell_type": "code",
   "execution_count": 11,
   "metadata": {},
   "outputs": [],
   "source": [
    "def get_text(df):\n",
    "    return df[\"project_title\"].fillna('')+' '+get_proj_essay(df)"
   ]
  },
  {
   "cell_type": "code",
   "execution_count": 12,
   "metadata": {},
   "outputs": [
    {
     "data": {
      "text/plain": [
       "0         Super Sight Word Centers Most of my kindergart...\n",
       "1         Keep Calm and Dance On Our elementary school i...\n",
       "2         Lets 3Doodle to Learn Hello;\\r\\nMy name is Mrs...\n",
       "3         \\\"Kid Inspired\\\" Equipment to Increase Activit...\n",
       "4         We need clean water for our culinary arts clas...\n",
       "5         Need to Reach Our Virtual  Mentors!!! My kids ...\n",
       "6         Active Kindergartners Kindergarten is the new ...\n",
       "7         Fabulous Firsties-Wiggling to Learn! First gra...\n",
       "8         Wobble Chairs Help Fidgety Kids Focus My seven...\n",
       "9         Snuggle Up With A Good Book I teach first grad...\n",
       "10        Writing, Writing, Writing! My classroom has 24...\n",
       "11        Technology Boost! My children come to school e...\n",
       "12        Life Lessons through Literacy My school is loc...\n",
       "13        Extra! Extra! Read all about it!!  We love to ...\n",
       "14        Flexible seating The children at our school co...\n",
       "15        A Comfy Seat! My third graders are eager to le...\n",
       "16        iPads for Bilingual Education My students are ...\n",
       "17        Taking Learning Outside of the Classroom! \\\"Le...\n",
       "18        Watch Readers Grow! During our reading worksho...\n",
       "19        Success With Communication A preschool classro...\n",
       "20        A-Maze-ing Problem Solving Strategies As a tea...\n",
       "21        Oral Language Development through the use of p...\n",
       "22        \\r\\nABC Ya in the Library!\\r\\n\\r\\n\\r\\n My most...\n",
       "23        Mini Devices With Many Opportunities \\\"You can...\n",
       "24        Leveled Library for Little Learners My student...\n",
       "25        Balance Ball Seating Needed for Engaging Group...\n",
       "26        No Paper And Pencils Allowed I work in a low-i...\n",
       "27        Can you hear me now? Our classroom is filled w...\n",
       "28        Finding a Voice Through Literarture My student...\n",
       "29        Let Me Read! We have the best students ever! W...\n",
       "                                ...                        \n",
       "182050    Bringing the Classroom Whiteboard to Life 06/0...\n",
       "182051    Supplies Galore My students love to read but h...\n",
       "182052    Balanced Reading My students are a very sweet ...\n",
       "182053    Making Civics Relevant in a 21st Century Class...\n",
       "182054    A Place for Everyone Every morning I open up m...\n",
       "182055    Cultivating Mindfulness in the Classroom My 6t...\n",
       "182056    Help Us Build Logical Thinking and Problem Sol...\n",
       "182057    Technology Partnering with Learning in the 21s...\n",
       "182058    Books in Spanish for Our Listening Center! My ...\n",
       "182059    Sensory and Motor Integration Tools: Fitness f...\n",
       "182060    Tablets to Teacher the Future The majority of ...\n",
       "182061    Time for Playground Fun! My second grade stude...\n",
       "182062    Reading Room at Donner A typical day in my cla...\n",
       "182063    One final push to reach success The end of the...\n",
       "182064    Embracing a Sensory approach through Technolog...\n",
       "182065    Students seeking Chromebook My students are a ...\n",
       "182066    Wiggle While We Work I've been in many teacher...\n",
       "182067    Games to Get Us Moving Benjamin Franklin once ...\n",
       "182068    At-Risk Students Need Extra Resources to Make ...\n",
       "182069    It'd Be a Treat to Offer an Alternative Seat! ...\n",
       "182070    Comfortable Seating Choices for Hamilton!!! Ha...\n",
       "182071    A Rug to Bring Us All Together My first grade ...\n",
       "182072    Kindergarten writing and shelving- ATPE I am b...\n",
       "182073    Basket Balling I have a group of inspiring stu...\n",
       "182074    Books Are The Best My students in my class are...\n",
       "182075    Math is Fun!! I currently teach math in a low-...\n",
       "182076    \\\"Sew\\\" you think you can design costumes! My ...\n",
       "182077    Sustainable Classroom I teach science to eight...\n",
       "182078    Can I go to the library? I work with a group o...\n",
       "182079    Reader Leaders! Balanced literacy was a myster...\n",
       "Length: 182080, dtype: object"
      ]
     },
     "execution_count": 12,
     "metadata": {},
     "output_type": "execute_result"
    }
   ],
   "source": [
    "get_text(train_df)"
   ]
  },
  {
   "cell_type": "code",
   "execution_count": 13,
   "metadata": {},
   "outputs": [
    {
     "name": "stdout",
     "output_type": "stream",
     "text": [
      "Training data shape: (163872, 16)\n",
      "Test data shape: (18208, 16)\n"
     ]
    }
   ],
   "source": [
    "train, dev = train_test_split(train_df, random_state=123, shuffle=True, test_size=0.1)\n",
    "print(\"Training data shape:\", train.shape)\n",
    "print(\"Test data shape:\", dev.shape)"
   ]
  },
  {
   "cell_type": "code",
   "execution_count": 14,
   "metadata": {},
   "outputs": [],
   "source": [
    "tokenizer = keras.preprocessing.text.Tokenizer()\n",
    "tokenizer.fit_on_texts(get_text(train))"
   ]
  },
  {
   "cell_type": "code",
   "execution_count": 15,
   "metadata": {},
   "outputs": [],
   "source": [
    "def preprocess_target(df):\n",
    "    return df[[\"project_is_approved\"]].copy()\n",
    "def preprocess_data(df):\n",
    "    processed_df = df[[\"teacher_number_of_previously_posted_projects\"]].copy()\n",
    "    processed_df[\"project_title\"] = tokenizer.texts_to_sequences(df[\"project_title\"])\n",
    "    processed_df[\"project_essay\"] = tokenizer.texts_to_sequences(get_proj_essay(df))    \n",
    "    return processed_df"
   ]
  },
  {
   "cell_type": "code",
   "execution_count": 16,
   "metadata": {},
   "outputs": [
    {
     "data": {
      "text/plain": [
       "((163872, 1), (163872, 3))"
      ]
     },
     "execution_count": 16,
     "metadata": {},
     "output_type": "execute_result"
    }
   ],
   "source": [
    "processed_train  = preprocess_data(train)\n",
    "processed_target = preprocess_target(train)\n",
    "processed_target.shape, processed_train.shape"
   ]
  },
  {
   "cell_type": "code",
   "execution_count": 17,
   "metadata": {},
   "outputs": [
    {
     "data": {
      "text/plain": [
       "((18208, 3), (18208, 1))"
      ]
     },
     "execution_count": 17,
     "metadata": {},
     "output_type": "execute_result"
    }
   ],
   "source": [
    "processed_dev  = preprocess_data(dev)\n",
    "processed_dev_target = preprocess_target(dev)\n",
    "processed_dev.shape, processed_dev_target.shape"
   ]
  },
  {
   "cell_type": "code",
   "execution_count": 18,
   "metadata": {},
   "outputs": [
    {
     "data": {
      "text/plain": [
       "<matplotlib.axes._subplots.AxesSubplot at 0x7f1148270320>"
      ]
     },
     "execution_count": 18,
     "metadata": {},
     "output_type": "execute_result"
    },
    {
     "data": {
      "image/png": "[encoded data removed]",
      "text/plain": [
       "<Figure size 432x288 with 1 Axes>"
      ]
     },
     "metadata": {
      "needs_background": "light"
     },
     "output_type": "display_data"
    }
   ],
   "source": [
    "processed_train[\"project_essay\"].apply(lambda x: len(x)).hist(bins=10)"
   ]
  },
  {
   "cell_type": "code",
   "execution_count": 19,
   "metadata": {},
   "outputs": [
    {
     "data": {
      "text/plain": [
       "62891     20370\n",
       "864        3137\n",
       "152015    12185\n",
       "42557     30086\n",
       "147514     5202\n",
       "31611     14739\n",
       "6644      25789\n",
       "5565      33552\n",
       "48215     14040\n",
       "64322     30087\n",
       "6792      13516\n",
       "82133     18553\n",
       "120877    33553\n",
       "101537    12744\n",
       "18718     30089\n",
       "11139     23071\n",
       "130378    49357\n",
       "19665     10663\n",
       "80965     49358\n",
       "123693    49359\n",
       "49398     38889\n",
       "160099    49360\n",
       "155636    15833\n",
       "59809     23072\n",
       "133781    11147\n",
       "126078    27657\n",
       "24154     49361\n",
       "8462      24310\n",
       "142330    49364\n",
       "110876    33555\n",
       "          ...  \n",
       "8028       5760\n",
       "2428       9841\n",
       "4195       8218\n",
       "124777    27446\n",
       "83079      6945\n",
       "23728      8933\n",
       "6648      16168\n",
       "30255     24922\n",
       "121428     3874\n",
       "157698    25495\n",
       "45507     22942\n",
       "73521     82639\n",
       "83012     13144\n",
       "130256    26940\n",
       "146016     6618\n",
       "35662     11988\n",
       "148819    16964\n",
       "164782    10030\n",
       "71200     82640\n",
       "118857     7346\n",
       "154238    20522\n",
       "65632     10762\n",
       "153313     7086\n",
       "46203     12970\n",
       "129130    15533\n",
       "146449    21354\n",
       "119906    82641\n",
       "17730     26347\n",
       "28030     35501\n",
       "15725      9635\n",
       "Name: project_essay, Length: 163872, dtype: int64"
      ]
     },
     "execution_count": 19,
     "metadata": {},
     "output_type": "execute_result"
    }
   ],
   "source": [
    "processed_train[\"project_essay\"].apply(lambda x: max(x) if len(x) > 0 else 0)"
   ]
  },
  {
   "cell_type": "code",
   "execution_count": 20,
   "metadata": {},
   "outputs": [],
   "source": [
    "MAX_PROJECT_TITLE_SEQ_LEN = 12\n",
    "MAX_PROJECT_TITLE = processed_train[\"project_title\"].apply(lambda x: max(x) if len(x) > 0 else 0).max() + 1\n",
    "\n",
    "MAX_PROJECT_ESSAY_SEQ_LEN = 450\n",
    "MAX_PROJECT_ESSAY = processed_train[\"project_essay\"].apply(lambda x: max(x) if len(x) > 0 else 0).max() + 1\n",
    "\n",
    "MAX_TEXT = max([MAX_PROJECT_TITLE, MAX_PROJECT_ESSAY])"
   ]
  },
  {
   "cell_type": "code",
   "execution_count": 21,
   "metadata": {},
   "outputs": [
    {
     "data": {
      "text/plain": [
       "82642"
      ]
     },
     "execution_count": 21,
     "metadata": {},
     "output_type": "execute_result"
    }
   ],
   "source": [
    "MAX_TEXT"
   ]
  },
  {
   "cell_type": "code",
   "execution_count": 22,
   "metadata": {},
   "outputs": [],
   "source": [
    "def get_keras_data(df):\n",
    "    return {\n",
    "        \"teacher_number_of_previously_posted_projects\": np.array(df[\"teacher_number_of_previously_posted_projects\"]),\n",
    "        \"project_title\": keras.preprocessing.sequence.pad_sequences(df[\"project_title\"], maxlen=MAX_PROJECT_TITLE_SEQ_LEN),\n",
    "        \"project_essay\": keras.preprocessing.sequence.pad_sequences(df[\"project_essay\"], maxlen=MAX_PROJECT_ESSAY_SEQ_LEN),\n",
    "    }\n",
    "\n",
    "X_train = get_keras_data(processed_train)\n",
    "X_dev = get_keras_data(processed_dev)"
   ]
  },
  {
   "cell_type": "code",
   "execution_count": 23,
   "metadata": {},
   "outputs": [
    {
     "name": "stdout",
     "output_type": "stream",
     "text": [
      "__________________________________________________________________________________________________\n",
      "Layer (type)                    Output Shape         Param #     Connected to                     \n",
      "==================================================================================================\n",
      "project_title (InputLayer)      (None, 12)           0                                            \n",
      "__________________________________________________________________________________________________\n",
      "project_essay (InputLayer)      (None, 450)          0                                            \n",
      "__________________________________________________________________________________________________\n",
      "embedding_1 (Embedding)         multiple             4132100     project_title[0][0]              \n",
      "                                                                 project_essay[0][0]              \n",
      "__________________________________________________________________________________________________\n",
      "teacher_number_of_previously_po (None, 1)            0                                            \n",
      "__________________________________________________________________________________________________\n",
      "gru_1 (GRU)                     (None, 8)            1416        embedding_1[0][0]                \n",
      "__________________________________________________________________________________________________\n",
      "gru_2 (GRU)                     (None, 16)           3216        embedding_1[1][0]                \n",
      "__________________________________________________________________________________________________\n",
      "concatenate_1 (Concatenate)     (None, 25)           0           teacher_number_of_previously_post\n",
      "                                                                 gru_1[0][0]                      \n",
      "                                                                 gru_2[0][0]                      \n",
      "__________________________________________________________________________________________________\n",
      "dense_1 (Dense)                 (None, 1)            26          concatenate_1[0][0]              \n",
      "==================================================================================================\n",
      "Total params: 4,136,758\n",
      "Trainable params: 4,136,758\n",
      "Non-trainable params: 0\n",
      "__________________________________________________________________________________________________\n"
     ]
    },
    {
     "name": "stderr",
     "output_type": "stream",
     "text": [
      "/opt/conda/lib/python3.6/site-packages/ipykernel_launcher.py:27: UserWarning: Update your `Model` call to the Keras 2 API: `Model(inputs=[<tf.Tenso..., outputs=Tensor(\"de...)`\n"
     ]
    }
   ],
   "source": [
    "def create_rnn_model():\n",
    "    \n",
    "    #Input Layers\n",
    "    teacher_previous_projects = keras.layers.Input(shape=(1,), name = \"teacher_number_of_previously_posted_projects\")\n",
    "    proj_title = keras.layers.Input(shape=(MAX_PROJECT_TITLE_SEQ_LEN,), name=\"project_title\")\n",
    "    proj_essay = keras.layers.Input(shape=(MAX_PROJECT_ESSAY_SEQ_LEN,), name = \"project_essay\")\n",
    "    \n",
    "    emb_layer = keras.layers.Embedding(MAX_TEXT,50)\n",
    "    emb_project_title = emb_layer(proj_title)\n",
    "    emb_project_essay = emb_layer(proj_essay)\n",
    "    \n",
    "    #RNN Layers\n",
    "    rnn_project_title = keras.layers.GRU(8, activation = 'relu')(emb_project_title)\n",
    "    rnn_project_essay = keras.layers.GRU(16, activation = 'relu')(emb_project_essay)\n",
    "    \n",
    "    all_layers = keras.layers.concatenate([teacher_previous_projects,\n",
    "                                              rnn_project_title,\n",
    "                                              rnn_project_essay])\n",
    "    # Output layer\n",
    "    rnn_output = keras.layers.Dense(1, activation = 'sigmoid')(all_layers)\n",
    "    \n",
    "    return keras.models.Model(\n",
    "        inputs=[teacher_previous_projects,\n",
    "                proj_title,\n",
    "                proj_essay,\n",
    "               ],\n",
    "        output = rnn_output\n",
    "    )\n",
    "rnn_model = create_rnn_model()\n",
    "rnn_model.summary()"
   ]
  },
  {
   "cell_type": "code",
   "execution_count": 24,
   "metadata": {},
   "outputs": [
    {
     "name": "stdout",
     "output_type": "stream",
     "text": [
      "Train on 163872 samples, validate on 18208 samples\n",
      "Epoch 1/1\n",
      "163872/163872 [==============================] - 361s 2ms/step - loss: 0.4200 - acc: 0.8479 - val_loss: 0.3786 - val_acc: 0.8459\n",
      "Train on 163872 samples, validate on 18208 samples\n",
      "Epoch 1/1\n",
      "163872/163872 [==============================] - 176s 1ms/step - loss: 0.3607 - acc: 0.8523 - val_loss: 0.3711 - val_acc: 0.8500\n",
      "Train on 163872 samples, validate on 18208 samples\n",
      "Epoch 1/1\n",
      "163872/163872 [==============================] - 90s 551us/step - loss: 0.3383 - acc: 0.8638 - val_loss: 0.3741 - val_acc: 0.8494\n"
     ]
    }
   ],
   "source": [
    "optimizer = keras.optimizers.Adam(lr=0.001)\n",
    "rnn_model.compile(optimizer=optimizer,\n",
    "                  loss=keras.losses.binary_crossentropy,\n",
    "                  metrics=[\"accuracy\"])\n",
    "\n",
    "for i in range(3):\n",
    "    rnn_model.fit(X_train, processed_target,\n",
    "                 batch_size=(2 ** (i + 8)),\n",
    "                 epochs=1,\n",
    "                 validation_data=(X_dev, processed_dev_target))"
   ]
  },
  {
   "cell_type": "code",
   "execution_count": 25,
   "metadata": {},
   "outputs": [
    {
     "name": "stdout",
     "output_type": "stream",
     "text": [
      "AUC for validation data: 0.7559\n"
     ]
    }
   ],
   "source": [
    "preds = rnn_model.predict(X_dev, batch_size=512)\n",
    "auc_score = roc_auc_score(processed_dev_target, preds)\n",
    "print(\"AUC for validation data: %.4f\" % (auc_score,))"
   ]
  }
 ],
 "metadata": {
  "kernelspec": {
   "display_name": "Python 3",
   "language": "python",
   "name": "python3"
  },
  "language_info": {
   "codemirror_mode": {
    "name": "ipython",
    "version": 3
   },
   "file_extension": ".py",
   "mimetype": "text/x-python",
   "name": "python",
   "nbconvert_exporter": "python",
   "pygments_lexer": "ipython3",
   "version": "3.7.3"
  }
 },
 "nbformat": 4,
 "nbformat_minor": 1
}
